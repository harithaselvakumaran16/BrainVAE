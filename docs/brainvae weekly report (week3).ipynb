{
 "cells": [
  {
   "cell_type": "markdown",
   "id": "a6f7fff7",
   "metadata": {},
   "source": [
    "# **Week 3(8/3-8/9)**  "
   ]
  },
  {
   "cell_type": "markdown",
   "id": "d20aa513",
   "metadata": {},
   "source": [
    "Completed tasks: (5.5 hours)  \n",
    "1 Find the optimal set of hyperparameters(4 hours)     \n",
    "1.1 revised code  \n",
    "     1.1.1 added gamma and alpha as hyperparameters  \n",
    "     1.1.2 calculated reconstruction loss and output   \n",
    "     1.1.3 used subprocess to execute grid search with latent dimension (10, 15, 20), alpha(1,8, 15), beta(1,8, 15) and gamma (1,8, 15) and save the result at /work/brainvae/results\n",
    "     1.1.4 debug   \n",
    "\n",
    "2 others (1.5 hours)   \n",
    "2.1 learn how to use jupyter notebook on Discovery\n",
    "2.2 search for github of UDR implementation\n",
    "\n",
    "3 Questions and plans:\n",
    "Need someone who is familiar with Tensorflow to implement UDR.\n",
    "\n",
    "You can check the intermediate result at /work/brainvae/docs/brainvae weekly report (week3).ipynb\n"
   ]
  },
  {
   "cell_type": "markdown",
   "id": "17e4c4d2-d671-490a-9fef-3731ef024b27",
   "metadata": {},
   "source": [
    "# **report details**  "
   ]
  },
  {
   "cell_type": "markdown",
   "id": "5584089d-a733-47c4-8ad1-8126e921cfde",
   "metadata": {},
   "source": [
    "1 get optimal paramters combination\n",
    "1.1 train model with different combination (Coarse grid) and save them at \"/work/brainvae/results\""
   ]
  },
  {
   "cell_type": "code",
   "execution_count": 8,
   "id": "92faef86-9e96-41fe-94bf-de17c32ff635",
   "metadata": {},
   "outputs": [
    {
     "name": "stdout",
     "output_type": "stream",
     "text": [
      "dataset: brain\n",
      "dist: normal\n",
      "num_epochs: 150\n",
      "batch_size: 128\n",
      "learning_rate: 0.001\n",
      "latent_dim: 10\n",
      "beta: 5.0\n",
      "tcvae: True\n",
      "exclude_mutinfo: False\n",
      "beta_anneal: False\n",
      "lambda_anneal: False\n",
      "mss: False\n",
      "conv: True\n",
      "gpu: 0\n",
      "visdom: False\n",
      "save: /work/brainvae/results/dim_10_beta_4_alpha_1_gamma_1\n",
      "log_freq: 10\n",
      "dset_dir: /work/brainvae/data/con_mat_all.npy\n",
      "image_size: 116\n",
      "num_workers: 4\n",
      "model_dir: \n",
      "model_name: \n",
      "alpha: 1.0\n",
      "lamb: 0.0\n",
      "loading numpy data: /work/brainvae/data/con_mat_all.npy\n",
      "/home/liu.changyu/.conda/envs/brainvae/lib/python3.9/site-packages/torch/utils/data/dataloader.py:478: UserWarning: This DataLoader will create 4 worker processes in total. Our suggested max number of worker in current system is 2, which is smaller than what this DataLoader is going to create. Please be aware that excessive worker creation might get DataLoader running slow or even freeze, lower the worker number to avoid potential slowness/freeze if necessary.\n",
      "  warnings.warn(_create_warning_msg(\n",
      "/home/liu.changyu/.conda/envs/brainvae/lib/python3.9/site-packages/torch/nn/functional.py:1806: UserWarning: nn.functional.sigmoid is deprecated. Use torch.sigmoid instead.\n",
      "  warnings.warn(\"nn.functional.sigmoid is deprecated. Use torch.sigmoid instead.\")\n",
      "[iteration 010] time: 0.15 dim 10.00 alpha 1.00 beta 5.00 gamma 1.00  loss 11015.31 recon_loss 361.04 ELBO: current -10654.2725 \n",
      "[iteration 020] time: 0.15 dim 10.00 alpha 1.00 beta 5.00 gamma 1.00  loss 10037.22 recon_loss 336.09 ELBO: current -9701.1270 \n",
      "[iteration 030] time: 0.15 dim 10.00 alpha 1.00 beta 5.00 gamma 1.00  loss 9656.49 recon_loss 360.88 ELBO: current -9295.6055 \n",
      "[iteration 040] time: 0.15 dim 10.00 alpha 1.00 beta 5.00 gamma 1.00  loss 9573.54 recon_loss 360.88 ELBO: current -9212.6641 \n",
      "[iteration 050] time: 0.15 dim 10.00 alpha 1.00 beta 5.00 gamma 1.00  loss 9745.89 recon_loss 360.22 ELBO: current -9385.6680 \n",
      "[iteration 060] time: 0.15 dim 10.00 alpha 1.00 beta 5.00 gamma 1.00  loss 9496.21 recon_loss 377.54 ELBO: current -9118.6699 \n",
      "[iteration 070] time: 0.15 dim 10.00 alpha 1.00 beta 5.00 gamma 1.00  loss 9434.52 recon_loss 349.42 ELBO: current -9085.0938 \n",
      "[iteration 080] time: 0.15 dim 10.00 alpha 1.00 beta 5.00 gamma 1.00  loss 9467.23 recon_loss 339.58 ELBO: current -9127.6523 \n",
      "[iteration 090] time: 0.15 dim 10.00 alpha 1.00 beta 5.00 gamma 1.00  loss 9391.00 recon_loss 342.03 ELBO: current -9048.9658 \n",
      "[iteration 100] time: 0.15 dim 10.00 alpha 1.00 beta 5.00 gamma 1.00  loss 9286.85 recon_loss 353.38 ELBO: current -8933.4727 \n",
      "[iteration 110] time: 0.15 dim 10.00 alpha 1.00 beta 5.00 gamma 1.00  loss 9366.15 recon_loss 357.78 ELBO: current -9008.3711 \n",
      "[iteration 120] time: 0.15 dim 10.00 alpha 1.00 beta 5.00 gamma 1.00  loss 9343.42 recon_loss 354.69 ELBO: current -8988.7246 \n",
      "[iteration 130] time: 0.15 dim 10.00 alpha 1.00 beta 5.00 gamma 1.00  loss 9307.45 recon_loss 352.52 ELBO: current -8954.9287 \n",
      "[iteration 140] time: 0.15 dim 10.00 alpha 1.00 beta 5.00 gamma 1.00  loss 9238.62 recon_loss 347.82 ELBO: current -8890.7930 \n",
      "[iteration 150] time: 0.15 dim 10.00 alpha 1.00 beta 5.00 gamma 1.00  loss nan recon_loss nan ELBO: current nan \n",
      "[iteration 160] time: 0.15 dim 10.00 alpha 1.00 beta 5.00 gamma 1.00  loss nan recon_loss nan ELBO: current nan \n",
      "[iteration 170] time: 0.15 dim 10.00 alpha 1.00 beta 5.00 gamma 1.00  loss nan recon_loss nan ELBO: current nan \n",
      "[iteration 180] time: 0.15 dim 10.00 alpha 1.00 beta 5.00 gamma 1.00  loss nan recon_loss nan ELBO: current nan \n",
      "[iteration 190] time: 0.15 dim 10.00 alpha 1.00 beta 5.00 gamma 1.00  loss nan recon_loss nan ELBO: current nan \n",
      "[iteration 200] time: 0.15 dim 10.00 alpha 1.00 beta 5.00 gamma 1.00  loss nan recon_loss nan ELBO: current nan \n",
      "[iteration 210] time: 0.15 dim 10.00 alpha 1.00 beta 5.00 gamma 1.00  loss nan recon_loss nan ELBO: current nan \n",
      "[iteration 220] time: 0.15 dim 10.00 alpha 1.00 beta 5.00 gamma 1.00  loss nan recon_loss nan ELBO: current nan \n",
      "[iteration 230] time: 0.15 dim 10.00 alpha 1.00 beta 5.00 gamma 1.00  loss nan recon_loss nan ELBO: current nan \n",
      "[iteration 240] time: 0.15 dim 10.00 alpha 1.00 beta 5.00 gamma 1.00  loss nan recon_loss nan ELBO: current nan \n",
      "[iteration 250] time: 0.15 dim 10.00 alpha 1.00 beta 5.00 gamma 1.00  loss nan recon_loss nan ELBO: current nan \n",
      "[iteration 260] time: 0.15 dim 10.00 alpha 1.00 beta 5.00 gamma 1.00  loss nan recon_loss nan ELBO: current nan \n",
      "[iteration 270] time: 0.15 dim 10.00 alpha 1.00 beta 5.00 gamma 1.00  loss nan recon_loss nan ELBO: current nan \n",
      "[iteration 280] time: 0.15 dim 10.00 alpha 1.00 beta 5.00 gamma 1.00  loss nan recon_loss nan ELBO: current nan \n",
      "[iteration 290] time: 0.16 dim 10.00 alpha 1.00 beta 5.00 gamma 1.00  loss nan recon_loss nan ELBO: current nan \n",
      "^C\n",
      "Traceback (most recent call last):\n",
      "  File \"/work/brainvae/code/Brain-VAE-main/vae_quant.py\", line 559, in <module>\n",
      "    model = main()\n",
      "  File \"/work/brainvae/code/Brain-VAE-main/vae_quant.py\", line 439, in main\n",
      "    x =x.to(device) #x.cuda(async=True)\n",
      "KeyboardInterrupt\n"
     ]
    }
   ],
   "source": [
    "#1.1 train model for example\n",
    "!/home/liu.changyu/.conda/envs/brainvae/bin/python /work/brainvae/code/Brain-VAE-main/vae_quant.py  --save /work/brainvae/results/dim_10_beta_4_alpha_1_gamma_1 --latent-dim 10 --beta 5 --alpha 1 --lamb 0  --batch-size 128 --num-epochs 150 --conv --tcvae --gpu 0 --log_freq 10 --dataset brain --dset_dir /work/brainvae/data/con_mat_all.npy --num_workers 4"
   ]
  },
  {
   "cell_type": "code",
   "execution_count": null,
   "id": "2e239d6b-2c76-43ba-bbd9-e3df55c3bb4e",
   "metadata": {},
   "outputs": [
    {
     "name": "stdout",
     "output_type": "stream",
     "text": [
      "['/home/liu.changyu/.conda/envs/brainvae/bin/python', '/work/brainvae/code/Brain-VAE-main/vae_quant.py', '--gpu', '0', '--log_freq', '10', '--dataset', 'brain', '--dset_dir', '/work/brainvae/data/con_mat_all.npy', '--num_workers', '4', '--batch-size', '128', '--num-epochs', '150', '--conv', '--tcvae', '--save', '/work/brainvae/results/dim_10_beta_1_alpha_1_gamma_1', '--latent-dim', '10', '--beta', '1', '--alpha', '1', '--lamb', '0']\n",
      "['/home/liu.changyu/.conda/envs/brainvae/bin/python', '/work/brainvae/code/Brain-VAE-main/vae_quant.py', '--gpu', '0', '--log_freq', '10', '--dataset', 'brain', '--dset_dir', '/work/brainvae/data/con_mat_all.npy', '--num_workers', '4', '--batch-size', '128', '--num-epochs', '150', '--conv', '--tcvae', '--save', '/work/brainvae/results/dim_10_beta_1_alpha_1_gamma_8', '--latent-dim', '10', '--beta', '1', '--alpha', '1', '--lamb', '-7']\n",
      "['/home/liu.changyu/.conda/envs/brainvae/bin/python', '/work/brainvae/code/Brain-VAE-main/vae_quant.py', '--gpu', '0', '--log_freq', '10', '--dataset', 'brain', '--dset_dir', '/work/brainvae/data/con_mat_all.npy', '--num_workers', '4', '--batch-size', '128', '--num-epochs', '150', '--conv', '--tcvae', '--save', '/work/brainvae/results/dim_10_beta_1_alpha_1_gamma_15', '--latent-dim', '10', '--beta', '1', '--alpha', '1', '--lamb', '-14']\n",
      "['/home/liu.changyu/.conda/envs/brainvae/bin/python', '/work/brainvae/code/Brain-VAE-main/vae_quant.py', '--gpu', '0', '--log_freq', '10', '--dataset', 'brain', '--dset_dir', '/work/brainvae/data/con_mat_all.npy', '--num_workers', '4', '--batch-size', '128', '--num-epochs', '150', '--conv', '--tcvae', '--save', '/work/brainvae/results/dim_10_beta_1_alpha_8_gamma_1', '--latent-dim', '10', '--beta', '1', '--alpha', '8', '--lamb', '0']\n",
      "['/home/liu.changyu/.conda/envs/brainvae/bin/python', '/work/brainvae/code/Brain-VAE-main/vae_quant.py', '--gpu', '0', '--log_freq', '10', '--dataset', 'brain', '--dset_dir', '/work/brainvae/data/con_mat_all.npy', '--num_workers', '4', '--batch-size', '128', '--num-epochs', '150', '--conv', '--tcvae', '--save', '/work/brainvae/results/dim_10_beta_1_alpha_8_gamma_8', '--latent-dim', '10', '--beta', '1', '--alpha', '8', '--lamb', '-7']\n",
      "['/home/liu.changyu/.conda/envs/brainvae/bin/python', '/work/brainvae/code/Brain-VAE-main/vae_quant.py', '--gpu', '0', '--log_freq', '10', '--dataset', 'brain', '--dset_dir', '/work/brainvae/data/con_mat_all.npy', '--num_workers', '4', '--batch-size', '128', '--num-epochs', '150', '--conv', '--tcvae', '--save', '/work/brainvae/results/dim_10_beta_1_alpha_8_gamma_15', '--latent-dim', '10', '--beta', '1', '--alpha', '8', '--lamb', '-14']\n",
      "['/home/liu.changyu/.conda/envs/brainvae/bin/python', '/work/brainvae/code/Brain-VAE-main/vae_quant.py', '--gpu', '0', '--log_freq', '10', '--dataset', 'brain', '--dset_dir', '/work/brainvae/data/con_mat_all.npy', '--num_workers', '4', '--batch-size', '128', '--num-epochs', '150', '--conv', '--tcvae', '--save', '/work/brainvae/results/dim_10_beta_1_alpha_15_gamma_1', '--latent-dim', '10', '--beta', '1', '--alpha', '15', '--lamb', '0']\n",
      "['/home/liu.changyu/.conda/envs/brainvae/bin/python', '/work/brainvae/code/Brain-VAE-main/vae_quant.py', '--gpu', '0', '--log_freq', '10', '--dataset', 'brain', '--dset_dir', '/work/brainvae/data/con_mat_all.npy', '--num_workers', '4', '--batch-size', '128', '--num-epochs', '150', '--conv', '--tcvae', '--save', '/work/brainvae/results/dim_10_beta_1_alpha_15_gamma_8', '--latent-dim', '10', '--beta', '1', '--alpha', '15', '--lamb', '-7']\n",
      "['/home/liu.changyu/.conda/envs/brainvae/bin/python', '/work/brainvae/code/Brain-VAE-main/vae_quant.py', '--gpu', '0', '--log_freq', '10', '--dataset', 'brain', '--dset_dir', '/work/brainvae/data/con_mat_all.npy', '--num_workers', '4', '--batch-size', '128', '--num-epochs', '150', '--conv', '--tcvae', '--save', '/work/brainvae/results/dim_10_beta_1_alpha_15_gamma_15', '--latent-dim', '10', '--beta', '1', '--alpha', '15', '--lamb', '-14']\n",
      "['/home/liu.changyu/.conda/envs/brainvae/bin/python', '/work/brainvae/code/Brain-VAE-main/vae_quant.py', '--gpu', '0', '--log_freq', '10', '--dataset', 'brain', '--dset_dir', '/work/brainvae/data/con_mat_all.npy', '--num_workers', '4', '--batch-size', '128', '--num-epochs', '150', '--conv', '--tcvae', '--save', '/work/brainvae/results/dim_10_beta_8_alpha_1_gamma_1', '--latent-dim', '10', '--beta', '8', '--alpha', '1', '--lamb', '0']\n",
      "['/home/liu.changyu/.conda/envs/brainvae/bin/python', '/work/brainvae/code/Brain-VAE-main/vae_quant.py', '--gpu', '0', '--log_freq', '10', '--dataset', 'brain', '--dset_dir', '/work/brainvae/data/con_mat_all.npy', '--num_workers', '4', '--batch-size', '128', '--num-epochs', '150', '--conv', '--tcvae', '--save', '/work/brainvae/results/dim_10_beta_8_alpha_1_gamma_8', '--latent-dim', '10', '--beta', '8', '--alpha', '1', '--lamb', '-7']\n",
      "['/home/liu.changyu/.conda/envs/brainvae/bin/python', '/work/brainvae/code/Brain-VAE-main/vae_quant.py', '--gpu', '0', '--log_freq', '10', '--dataset', 'brain', '--dset_dir', '/work/brainvae/data/con_mat_all.npy', '--num_workers', '4', '--batch-size', '128', '--num-epochs', '150', '--conv', '--tcvae', '--save', '/work/brainvae/results/dim_10_beta_8_alpha_1_gamma_15', '--latent-dim', '10', '--beta', '8', '--alpha', '1', '--lamb', '-14']\n",
      "['/home/liu.changyu/.conda/envs/brainvae/bin/python', '/work/brainvae/code/Brain-VAE-main/vae_quant.py', '--gpu', '0', '--log_freq', '10', '--dataset', 'brain', '--dset_dir', '/work/brainvae/data/con_mat_all.npy', '--num_workers', '4', '--batch-size', '128', '--num-epochs', '150', '--conv', '--tcvae', '--save', '/work/brainvae/results/dim_10_beta_8_alpha_8_gamma_1', '--latent-dim', '10', '--beta', '8', '--alpha', '8', '--lamb', '0']\n"
     ]
    }
   ],
   "source": [
    "#coarse grid search, we can check the log at 'grid_search_log_coarse.txt'\n",
    "import subprocess\n",
    "latent_dim_list = [10, 15, 20]\n",
    "beta_list = [1, 8, 15]\n",
    "alpha_list = [1, 8, 15]\n",
    "lamb_list = [0, -7, -14]\n",
    "with open('/work/brainvae/results/grid_search_log_coarse.txt', 'w') as fd:\n",
    "    for latent_dim in latent_dim_list:\n",
    "        for beta in beta_list:\n",
    "            for alpha in alpha_list:\n",
    "                for lamb in lamb_list:\n",
    "                    cmd_list = ['/home/liu.changyu/.conda/envs/brainvae/bin/python', '/work/brainvae/code/Brain-VAE-main/vae_quant.py', \n",
    "                        '--gpu',  '0','--log_freq', '10', '--dataset', 'brain', '--dset_dir', '/work/brainvae/data/con_mat_all.npy', '--num_workers','4',\n",
    "                         '--batch-size', '128',    '--num-epochs', '150',   '--conv',  '--tcvae',\n",
    "                         '--save', f'/work/brainvae/results/dim_{latent_dim}_beta_{beta}_alpha_{alpha}_gamma_{1-lamb}', '--latent-dim',f'{latent_dim}', '--beta',  f'{beta}', '--alpha', f'{alpha}', '--lamb',  f'{lamb}',]\n",
    "                    print(cmd_list)\n",
    "                    subprocess.run(cmd_list, stdout=fd)\n",
    "    \n"
   ]
  },
  {
   "cell_type": "code",
   "execution_count": null,
   "id": "2c5f7658-ecd7-4939-ad01-4f22193927c5",
   "metadata": {},
   "outputs": [],
   "source": []
  },
  {
   "cell_type": "code",
   "execution_count": null,
   "id": "fc6cca02-7eaa-45a8-ad4f-17620033009d",
   "metadata": {},
   "outputs": [],
   "source": []
  }
 ],
 "metadata": {
  "kernelspec": {
   "display_name": "Python 3",
   "language": "python",
   "name": "python3"
  },
  "language_info": {
   "codemirror_mode": {
    "name": "ipython",
    "version": 3
   },
   "file_extension": ".py",
   "mimetype": "text/x-python",
   "name": "python",
   "nbconvert_exporter": "python",
   "pygments_lexer": "ipython3",
   "version": "3.8.8"
  },
  "toc-autonumbering": true
 },
 "nbformat": 4,
 "nbformat_minor": 5
}
